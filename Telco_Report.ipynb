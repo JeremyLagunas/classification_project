{
 "cells": [
  {
   "cell_type": "markdown",
   "id": "e438518a",
   "metadata": {},
   "source": [
    "# Telco Churn Report\n",
    "\n",
    "By Jeremy Lagunas 07/15/2022"
   ]
  },
  {
   "cell_type": "markdown",
   "id": "b1e6ca81",
   "metadata": {},
   "source": [
    "## Project Description\n",
    "I will be working with the Telco dataset to accomplish gaining an underestanding of the company's churn drivers and what can be done to address them. "
   ]
  },
  {
   "cell_type": "markdown",
   "id": "8bc54e96",
   "metadata": {},
   "source": [
    "## Initial Questions\n",
    "- What drives churn?\n",
    "- What actionable items can be taken to address the churn drivers?"
   ]
  },
  {
   "cell_type": "markdown",
   "id": "2bb7ca38",
   "metadata": {},
   "source": [
    "## Project Goals\n",
    "- Find churn drivers\n",
    "- Compare churn drivers\n",
    "- Generate visuals to communicate this information\n",
    "- Generate models which can accurately predict churn\n",
    "- Communicate recommendations to address customer churn"
   ]
  },
  {
   "cell_type": "markdown",
   "id": "9858c83e",
   "metadata": {},
   "source": [
    "## Wrangle Telco Data\n",
    "\n",
    "To acquire the Telco data, I used the telco_churn database in the Codeup mySQL server. I selected all columns from the customers table and joined contract_types, internet_service_types, and payment_types, using their respective _type_id."
   ]
  },
  {
   "cell_type": "code",
   "execution_count": 4,
   "id": "046ed220",
   "metadata": {},
   "outputs": [],
   "source": [
    "# acquire data from sql database \n",
    "import acquire"
   ]
  },
  {
   "cell_type": "code",
   "execution_count": 11,
   "id": "6c012a11",
   "metadata": {},
   "outputs": [],
   "source": [
    "df = acquire.get_telco_data()"
   ]
  },
  {
   "cell_type": "markdown",
   "id": "94e47acd",
   "metadata": {},
   "source": [
    "To clean the data, I used the prep_telco() function from the prepare file. "
   ]
  },
  {
   "cell_type": "code",
   "execution_count": 7,
   "id": "e654980a",
   "metadata": {},
   "outputs": [],
   "source": [
    "import prepare"
   ]
  },
  {
   "cell_type": "code",
   "execution_count": 12,
   "id": "a6a81edb",
   "metadata": {},
   "outputs": [],
   "source": [
    "df = prepare.prep_telco(df)"
   ]
  },
  {
   "cell_type": "markdown",
   "id": "0e1bd22f",
   "metadata": {},
   "source": [
    "I mapped all remaining categorical variables from Yes/No to 1/0"
   ]
  },
  {
   "cell_type": "code",
   "execution_count": 13,
   "id": "0bd3f3a4",
   "metadata": {},
   "outputs": [],
   "source": [
    "df['partner'] = df['partner'].map({'Yes':1, 'No':0})\n",
    "df['dependents'] = df['dependents'].map({'Yes':1, 'No':0})\n",
    "df['phone_service'] = df['phone_service'].map({'Yes':1, 'No':0})\n",
    "df['multiple_lines'] = df['multiple_lines'].map({'Yes':1, 'No':0, 'No phone service':0})\n",
    "df['online_security'] = df['online_security'].map({'Yes':1, 'No':0, 'No internet service':0})\n",
    "df['online_backup'] = df['online_backup'].map({'Yes':1, 'No':0, 'No internet service':0})\n",
    "df['device_protection'] = df['device_protection'].map({'Yes':1, 'No':0, 'No internet service':0})\n",
    "df['tech_support'] = df['tech_support'].map({'Yes':1, 'No':0, 'No internet service':0})\n",
    "df['streaming_tv'] = df['streaming_tv'].map({'Yes':1, 'No':0, 'No internet service':0})\n",
    "df['streaming_movies'] = df['streaming_movies'].map({'Yes':1, 'No':0, 'No internet service':0})\n",
    "df['paperless_billing'] = df['paperless_billing'].map({'Yes':1, 'No':0})\n",
    "df['churn'] = df['churn'].map({'Yes':1, 'No':0})\n",
    "df['gender'] = df['gender'].map({'Male':1, 'Female':0})"
   ]
  },
  {
   "cell_type": "markdown",
   "id": "491954dc",
   "metadata": {},
   "source": [
    "I dropped the customer_id column and I dropped the 11 instances where total_charge was blank and tenure = 0."
   ]
  },
  {
   "cell_type": "code",
   "execution_count": 14,
   "id": "a8d30e35",
   "metadata": {},
   "outputs": [],
   "source": [
    "df = df.drop(columns = ['customer_id']) \n",
    "df = df.drop([945, 1731, 1906, 2025, 2176, 2250, 2855, 3052, 3118, 4054, 5433])"
   ]
  },
  {
   "cell_type": "markdown",
   "id": "7718526f",
   "metadata": {},
   "source": [
    "I changed total_charges from objects to floats."
   ]
  },
  {
   "cell_type": "code",
   "execution_count": 15,
   "id": "e93cc807",
   "metadata": {},
   "outputs": [],
   "source": [
    "df['total_charges'] = pd.to_numeric(df['total_charges'])"
   ]
  },
  {
   "cell_type": "markdown",
   "id": "137aca5a",
   "metadata": {},
   "source": [
    "Lastly, I split the data into train, validate, and test groups using the train_validate_test_split function from the prepare file. "
   ]
  },
  {
   "cell_type": "code",
   "execution_count": 17,
   "id": "0d709ba4",
   "metadata": {},
   "outputs": [],
   "source": [
    "train, validate, test = prepare.train_validate_test_split(df, 'churn', seed=123)"
   ]
  },
  {
   "cell_type": "markdown",
   "id": "ce527f8f",
   "metadata": {},
   "source": [
    "## Exploratory Analysis\n",
    "\n",
    "What drives churn?"
   ]
  },
  {
   "cell_type": "markdown",
   "id": "5a4f2cce",
   "metadata": {},
   "source": [
    "During my analysis, I found three variables which appeared to have a significant relationship with customer churn rates. \n",
    "Those three variables being:\n",
    "- Fiber Optic Internet Service\n",
    "- Month-to-month subscribers\n",
    "- E-check payment users"
   ]
  },
  {
   "cell_type": "markdown",
   "id": "4b41dff4",
   "metadata": {},
   "source": [
    "The following three graphs display the curn rates between internet service types, contract types, and payment types, while also comparing them all with the overall customer churn rate of 27%"
   ]
  },
  {
   "cell_type": "code",
   "execution_count": 2,
   "id": "6d0070d0",
   "metadata": {},
   "outputs": [],
   "source": [
    "import pandas as pd\n",
    "import numpy as np\n",
    "import matplotlib.pyplot as plt\n",
    "import seaborn as sns"
   ]
  },
  {
   "cell_type": "code",
   "execution_count": 20,
   "id": "2fa95650",
   "metadata": {},
   "outputs": [
    {
     "data": {
      "image/png": "[encoded data removed]",
      "text/plain": [
       "<Figure size 432x288 with 1 Axes>"
      ]
     },
     "metadata": {
      "needs_background": "light"
     },
     "output_type": "display_data"
    }
   ],
   "source": [
    "plt.title('Internet Service Type Churn')\n",
    "sns.barplot(x='internet_service_type', y= 'churn', data=train)\n",
    "rate = train.churn.mean()\n",
    "plt.axhline(rate, label = 'Average Churn Rate')\n",
    "plt.legend()\n",
    "plt.show()"
   ]
  },
  {
   "cell_type": "markdown",
   "id": "a5f58b3e",
   "metadata": {},
   "source": [
    "Takeaway:\n",
    "Our Fiber service may be overpriced or not meeting performance and reliability standards for our customers. "
   ]
  },
  {
   "cell_type": "code",
   "execution_count": 21,
   "id": "c9be8790",
   "metadata": {},
   "outputs": [
    {
     "data": {
      "image/png": "[encoded data removed]",
      "text/plain": [
       "<Figure size 432x288 with 1 Axes>"
      ]
     },
     "metadata": {
      "needs_background": "light"
     },
     "output_type": "display_data"
    }
   ],
   "source": [
    "plt.title('Contract Type Churn')\n",
    "sns.barplot(x='contract_type', y= 'churn', data=train)\n",
    "rate = train.churn.mean()\n",
    "plt.axhline(rate, label = 'Average Churn Rate')\n",
    "plt.legend()\n",
    "plt.show()"
   ]
  },
  {
   "cell_type": "markdown",
   "id": "3f98b4ea",
   "metadata": {},
   "source": [
    "Takeaway:\n",
    "    Month-to-month customers have many more chances to discontinue using our services. We should prioritize turning M2M into longer contracted customers. "
   ]
  },
  {
   "cell_type": "code",
   "execution_count": 22,
   "id": "ee687542",
   "metadata": {},
   "outputs": [
    {
     "data": {
      "image/png": "[encoded data removed]",
      "text/plain": [
       "<Figure size 432x288 with 1 Axes>"
      ]
     },
     "metadata": {
      "needs_background": "light"
     },
     "output_type": "display_data"
    }
   ],
   "source": [
    "plt.title('Payment Type Churn')\n",
    "sns.barplot(x='payment_type', y= 'churn', data=train)\n",
    "rate = train.churn.mean()\n",
    "plt.axhline(rate, label = 'Average Churn Rate')\n",
    "plt.legend()\n",
    "plt.show()"
   ]
  },
  {
   "cell_type": "markdown",
   "id": "137c37e7",
   "metadata": {},
   "source": [
    "Takeaway:\n",
    "Our E-check payment option may be difficult to use, causing frustration among customers and pushing them to leave. We should investigate this and see if it can be improved or consider getting rid of that payment option."
   ]
  },
  {
   "cell_type": "markdown",
   "id": "1bcc8566",
   "metadata": {},
   "source": [
    "Further Recommendations"
   ]
  },
  {
   "cell_type": "markdown",
   "id": "de5a5251",
   "metadata": {},
   "source": [
    "- Conduct market research to compare our Fiber optic pricing and performance with our competitors.\n",
    "- Test using incentives to establish long-term contracts with customers. "
   ]
  },
  {
   "cell_type": "markdown",
   "id": "875bf53e",
   "metadata": {},
   "source": [
    "## Model"
   ]
  },
  {
   "cell_type": "markdown",
   "id": "f4f4307c",
   "metadata": {},
   "source": [
    "I tested several models to predict churn. In the end, the Random Forest Model performed the best on the Validate and Test datasets."
   ]
  },
  {
   "cell_type": "code",
   "execution_count": 25,
   "id": "c738e7aa",
   "metadata": {},
   "outputs": [],
   "source": [
    "from sklearn.ensemble import RandomForestClassifier"
   ]
  },
  {
   "cell_type": "code",
   "execution_count": 29,
   "id": "7d13557d",
   "metadata": {},
   "outputs": [],
   "source": [
    "# Dropping remaining columns with objects for modeling\n",
    "train_model = train.drop(columns = ['contract_type', 'internet_service_type', 'payment_type'])\n",
    "validate_model = validate.drop(columns = ['contract_type', 'internet_service_type', 'payment_type'])\n",
    "test_model = test.drop(columns = ['contract_type', 'internet_service_type', 'payment_type'])"
   ]
  },
  {
   "cell_type": "code",
   "execution_count": 30,
   "id": "1c35d929",
   "metadata": {},
   "outputs": [],
   "source": [
    "# Establishing the x and y groups for my train, validate, and test data\n",
    "x_train = train_model.drop(columns = ['churn'])\n",
    "y_train = train_model.churn\n",
    "\n",
    "x_validate = validate_model.drop(columns = ['churn'])\n",
    "y_validate = validate_model.churn\n",
    "\n",
    "x_test = test_model.drop(columns = ['churn'])\n",
    "y_test = test_model.churn"
   ]
  },
  {
   "cell_type": "code",
   "execution_count": 33,
   "id": "d69e0d37",
   "metadata": {},
   "outputs": [],
   "source": [
    "# Turning y datasets from 0/1 to No/Yes for modeling.\n",
    "y_train = np.where(y_train == 0, 'No', 'Yes')\n",
    "y_validate = np.where(y_validate == 0, 'No', 'Yes')\n",
    "y_test = np.where(y_test == 0, 'No', 'Yes')"
   ]
  },
  {
   "cell_type": "code",
   "execution_count": 34,
   "id": "e87a3964",
   "metadata": {},
   "outputs": [],
   "source": [
    "rf = RandomForestClassifier(bootstrap = True,\n",
    "                            class_weight = None,\n",
    "                            criterion = 'gini',\n",
    "                            min_samples_leaf = 3,\n",
    "                            n_estimators = 100,\n",
    "                            max_depth = 3,\n",
    "                            random_state = 123)"
   ]
  },
  {
   "cell_type": "code",
   "execution_count": 35,
   "id": "f346d6d5",
   "metadata": {},
   "outputs": [
    {
     "data": {
      "text/plain": [
       "RandomForestClassifier(max_depth=3, min_samples_leaf=3, random_state=123)"
      ]
     },
     "execution_count": 35,
     "metadata": {},
     "output_type": "execute_result"
    }
   ],
   "source": [
    "rf.fit(x_train, y_train)"
   ]
  },
  {
   "cell_type": "code",
   "execution_count": 38,
   "id": "90bb3af3",
   "metadata": {},
   "outputs": [
    {
     "name": "stdout",
     "output_type": "stream",
     "text": [
      "Accuracy of random forest classifier on training set: 0.79\n"
     ]
    }
   ],
   "source": [
    "print('Accuracy of random forest classifier on training set: {:.2f}'\n",
    "     .format(rf.score(x_train, y_train)))"
   ]
  },
  {
   "cell_type": "code",
   "execution_count": 39,
   "id": "283957e7",
   "metadata": {},
   "outputs": [
    {
     "name": "stdout",
     "output_type": "stream",
     "text": [
      "Accuracy of random forest classifier on validate set: 0.77\n"
     ]
    }
   ],
   "source": [
    "# Validate\n",
    "print('Accuracy of random forest classifier on validate set: {:.2f}'\n",
    " .format(rf.score(x_validate, y_validate)))"
   ]
  },
  {
   "cell_type": "code",
   "execution_count": 40,
   "id": "860fe288",
   "metadata": {},
   "outputs": [
    {
     "name": "stdout",
     "output_type": "stream",
     "text": [
      "Accuracy of random forest classifier on test set: 0.79\n"
     ]
    }
   ],
   "source": [
    "# Test\n",
    "print('Accuracy of random forest classifier on test set: {:.2f}'\n",
    "     .format(rf.score(x_test, y_test)))"
   ]
  },
  {
   "cell_type": "markdown",
   "id": "12b647e7",
   "metadata": {},
   "source": [
    "## Conclusion"
   ]
  },
  {
   "cell_type": "markdown",
   "id": "68726c86",
   "metadata": {},
   "source": [
    "### Summary\n",
    "\n",
    "- I discussed the purpose of this project and asked a few questions to try and answer. \n",
    "- I found that Fiber Optic Internet, Month-to-month subscriptions, and E-check use all contribute to churn at a much higher rate than the overall churn rate. \n",
    "- I reviewed the model I worked with."
   ]
  },
  {
   "cell_type": "markdown",
   "id": "84b6e7fd",
   "metadata": {},
   "source": [
    "### Recommendations / Next Steps\n",
    "\n",
    "To recap:\n",
    "\n",
    "1. I believe we should conduct more thorough market research with regard to our Fiber Internet service. We should look to see how how pricing and performance compare with our competitors. \n",
    "2. Prioritize converting our Month-to-month customers into long-term contract customers.\n",
    "3. Consider improving the E-check payment experience, or discarding it all together. "
   ]
  },
  {
   "cell_type": "code",
   "execution_count": null,
   "id": "068aa5d4",
   "metadata": {},
   "outputs": [],
   "source": []
  }
 ],
 "metadata": {
  "kernelspec": {
   "display_name": "Python 3 (ipykernel)",
   "language": "python",
   "name": "python3"
  },
  "language_info": {
   "codemirror_mode": {
    "name": "ipython",
    "version": 3
   },
   "file_extension": ".py",
   "mimetype": "text/x-python",
   "name": "python",
   "nbconvert_exporter": "python",
   "pygments_lexer": "ipython3",
   "version": "3.9.12"
  }
 },
 "nbformat": 4,
 "nbformat_minor": 5
}
